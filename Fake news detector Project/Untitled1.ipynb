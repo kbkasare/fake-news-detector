{
 "cells": [
  {
   "cell_type": "code",
   "execution_count": 30,
   "id": "c738e1de",
   "metadata": {},
   "outputs": [],
   "source": [
    "import pandas as pd"
   ]
  },
  {
   "cell_type": "code",
   "execution_count": 31,
   "id": "78a4f4d6",
   "metadata": {},
   "outputs": [],
   "source": [
    "file =pd.read_csv(\"fake_or_real_news.csv\")"
   ]
  },
  {
   "cell_type": "code",
   "execution_count": 32,
   "id": "1cb25916",
   "metadata": {},
   "outputs": [],
   "source": [
    "newsReal=file.iloc[80]"
   ]
  },
  {
   "cell_type": "code",
   "execution_count": 33,
   "id": "f3c4c83a",
   "metadata": {},
   "outputs": [
    {
     "data": {
      "text/plain": [
       "'REAL'"
      ]
     },
     "execution_count": 33,
     "metadata": {},
     "output_type": "execute_result"
    }
   ],
   "source": [
    "newsReal[3]"
   ]
  },
  {
   "cell_type": "code",
   "execution_count": 34,
   "id": "caf67c70",
   "metadata": {},
   "outputs": [
    {
     "data": {
      "text/plain": [
       "'Democratic National Committee officials on Saturday turned down\\xa0Bernie Sanders\\' formal request for\\xa0the ouster of “aggressive attack surrogates” for Hillary Clinton from key\\xa0national convention committees.\\n\\nThe campaign announced earlier that\\xa0it wanted\\xa0to remove\\xa0Connecticut Gov. Dannel Malloy as a co-chairman of the Platform Committee and former Massachusetts Rep. Barney Frank as head of the Rules Committee.\\xa0Frank\\xa0has\\xa0sharply criticized Sanders’ positions on breaking up big banks and Malloy has criticized Sanders on guns.\\n\\n“Governor Malloy and Mr. Frank have both been aggressive attack surrogates for the Clinton campaign,” Sanders campaign counsel Brad Deutsch\\xa0wrote in a letter\\xa0to the party’s Rules and Bylaws Committee. “Their criticisms of Sen. Sanders have gone beyond dispassionate ideological disagreement and have exposed a deeper professional, political and personal hostility toward the senator and his campaign.\"\\n\\nBut committee co-chairs Jim Roosevelt and Lorraine Miller responded that his challenge \"fails to meet the criteria\" for their dismissal. It did not allege any violations in the conduct of their elections to their posts by the DNC executive committee in January, they wrote.\\n\\nThe Sanders campaign’s Friday letter to Democratic National Committee rules officials marks the latest turn in Sanders’ feud with party officials. It comes a week after Sanders said he would make sure Rep. Debbie Wasserman Schultz of Florida isn’t reappointed to her role as head of the DNC if he becomes president and he began fundraising for her primary opponent, Tim Canova.\\n\\nMost members of the convention standing committees — rules, platform and credentials\\xa0—\\xa0are awarded to candidates based on the results of those primaries and caucuses.\\xa0But under party rules, Wasserman Schultz recommended co-chairs and a slate of 25 at-large appointments per committee for approval by the party’s executive committee.\\n\\nIn a May 6 letter to Wasserman Schultz, Sanders complained she selected only three of his more than 40 recommendations for committee appointments, and he expressed no confidence in Malloy or Frank, writing their appointments suggest\\xa0the committees are being established “in an overtly partisan way.”\\n\\nDeutsch argued Friday that Frank and Malloy can’t be relied upon to perform convention duties fairly “while laboring under such deeply held bias.”\\n\\n“The appointment of two individuals so outspokenly critical of Sen. Sanders, and so closely affiliated with Secretary Clinton\\'s campaign, raises concerns that two of the three Convention Standing Committees are being constituted in an overtly partisan way designed to exclude meaningful input from supporters of Sen. Sanders\\' candidacy,” Deutsch wrote.\\n\\nIn April, Tad Devine, Sanders’ senior adviser, said Frank is among surrogates for Hillary Clinton who used Sanders’ remarks to a New York\\xa0Daily News editorial board on April 1 to promote a story line that questions Sanders’ capacity to be president.\\xa0Devine pointed to Frank’s April 6 statements on MSNBC that Sanders “confused several things” in his responses to questions about his core issue of breaking up big banks. Frank also said Sanders’ responses to the editorial board were not “coherent.”\\n\\nFrank\\xa0said in an April interview with USA TODAY that he would step aside from his co-chairmanship if the Democratic nomination is still uncertain in June and if a Rules Committee decision could be the deciding factor. With Clinton\\'s decisive lead in delegates, that appears unlikely.\\n\\nA Connecticut Democratic Party spokesman told USA TODAY earlier this month that Malloy\\xa0agrees with Sanders on many issues. On Saturday, Leigh Appleby said Malloy is committed to a platform and process reflective of the party\\'s diverse viewpoints.\\n\\n\"This year\\'s Democratic platform process is making an unprecedented effort to ensure the process is reflective of the entire party and that every Democrat has an opportunity to have their voice heard in a meaningful way,\" Appleby said in a statement. \"And at the end of the day, Democats will put forward a platform that stands in stark contrast to the hateful, divisive, and dangerous policies of Donald Trump.\"'"
      ]
     },
     "execution_count": 34,
     "metadata": {},
     "output_type": "execute_result"
    }
   ],
   "source": [
    "newsReal[2]"
   ]
  },
  {
   "cell_type": "code",
   "execution_count": 37,
   "id": "3829a3eb",
   "metadata": {},
   "outputs": [
    {
     "data": {
      "text/plain": [
       "\"Bernie Sanders' call for ouster of two convention co-chairs rejected\""
      ]
     },
     "execution_count": 37,
     "metadata": {},
     "output_type": "execute_result"
    }
   ],
   "source": [
    "newsReal[1]"
   ]
  },
  {
   "cell_type": "code",
   "execution_count": 36,
   "id": "3c7e6f31",
   "metadata": {},
   "outputs": [],
   "source": [
    "newsFake=file.iloc[60]"
   ]
  },
  {
   "cell_type": "code",
   "execution_count": 27,
   "id": "df81d319",
   "metadata": {},
   "outputs": [
    {
     "data": {
      "text/plain": [
       "'FAKE'"
      ]
     },
     "execution_count": 27,
     "metadata": {},
     "output_type": "execute_result"
    }
   ],
   "source": [
    "newsFake[3]"
   ]
  },
  {
   "cell_type": "code",
   "execution_count": 28,
   "id": "14a6d71d",
   "metadata": {},
   "outputs": [
    {
     "data": {
      "text/plain": [
       "'Print \\n[Ed. – How to take the fun out of Halloween.] \\nAs Halloween approaches, hair-raising yard displays can often cause people to stop, gawk and whip out their cellphones. \\nLarethia Haddon is well aware of that, and is using it to shine some light on real-life horrors, rather than typical Halloween themes. \\nIn her yard at the corner of Mendota and Santa Maria avenues in Detroit, there are six dummies portraying police shootings, slain children, the Flint water crisis, and other horrors. \\nLast year, a single dummy placed face-down in the grass, realistically depicting a dead body in her yard, shocked passersby and caused fearful calls to the police. \\nThis time around, Haddon wants to inspire a broader range of thought, rather than just shock. \\n“We’re trying to do something positive instead of just having a dead body laying in the yard,” she said. “Want to get people to be a little more focused on the issues, what’s going on in the world. We need to stick together more. We need to come together. And if we don’t, this scene in my yard is going to be reality every single day.”'"
      ]
     },
     "execution_count": 28,
     "metadata": {},
     "output_type": "execute_result"
    }
   ],
   "source": [
    "newsFake[2]"
   ]
  },
  {
   "cell_type": "code",
   "execution_count": null,
   "id": "98939a41",
   "metadata": {},
   "outputs": [],
   "source": []
  }
 ],
 "metadata": {
  "kernelspec": {
   "display_name": "Python 3 (ipykernel)",
   "language": "python",
   "name": "python3"
  },
  "language_info": {
   "codemirror_mode": {
    "name": "ipython",
    "version": 3
   },
   "file_extension": ".py",
   "mimetype": "text/x-python",
   "name": "python",
   "nbconvert_exporter": "python",
   "pygments_lexer": "ipython3",
   "version": "3.10.9"
  }
 },
 "nbformat": 4,
 "nbformat_minor": 5
}
